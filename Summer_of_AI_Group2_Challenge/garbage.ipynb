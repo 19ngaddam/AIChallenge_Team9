{
 "cells": [
  {
   "cell_type": "code",
   "execution_count": 1,
   "metadata": {},
   "outputs": [],
   "source": [
    "import numpy as np\n",
    "import os \n",
    "import pandas as pd\n",
    "import sklearn\n",
    "import xgboost as xgb"
   ]
  },
  {
   "cell_type": "code",
   "execution_count": 2,
   "metadata": {
    "tags": []
   },
   "outputs": [
    {
     "output_type": "stream",
     "name": "stdout",
     "text": "create_age(months)  expiry_age(months)  protocol  update_age(days)  URL  \\\n0                     -1                  -1     False                -1   70   \n1                    212                  16     False               663   36   \n2                     -1                  -1     False                -1   73   \n3                    198                   6     False               186   31   \n4                    240                  24     False              1684   31   \n...                  ...                 ...       ...               ...  ...   \n4794                  52                   8     False               118   73   \n4795                  -1                  -1     False                -1   26   \n4796                  -1                  -1     False                -1   73   \n4797                  -1                  -1     False                -1   73   \n4798                 172                  68     False               745   36   \n\n      Label  \n0         1  \n1         0  \n2         1  \n3         0  \n4         0  \n...     ...  \n4794      1  \n4795      0  \n4796      1  \n4797      1  \n4798      0  \n\n[4799 rows x 6 columns]\n"
    }
   ],
   "source": [
    "from sklearn.preprocessing import LabelEncoder\n",
    "data= pd.read_csv('./Phishing_Mitre_Dataset_Summer_of_AI.csv')\n",
    "\n",
    "data['URL'] = [len(url) for url in (data['URL'])]\n",
    "'''\n",
    "protocol = [url[4]=='s' for url in data['URL']]\n",
    "data.insert(2,'protocol',protocol)\n",
    "\n",
    "\n",
    "label_encoder = LabelEncoder()\n",
    "label_encoder.fit(data['URL'])\n",
    "data['URL']=label_encoder.transform(data['URL'])\n",
    "'''\n",
    "\n",
    "print(data)\n",
    "#split into parameters and label for supervised learning\n",
    "X, y = data.iloc[:,:-1], data.iloc[:, -1]\n",
    "data_dmatrix=xgb.DMatrix(data=X, label=y)\n",
    "\n"
   ]
  },
  {
   "cell_type": "code",
   "execution_count": 3,
   "metadata": {
    "tags": []
   },
   "outputs": [
    {
     "output_type": "execute_result",
     "data": {
      "text/plain": "XGBRegressor(alpha=10, base_score=0.5, booster='gbtree', colsample_bylevel=1,\n             colsample_bynode=1, colsample_bytree=0.3, gamma=0, gpu_id=-1,\n             importance_type='gain', interaction_constraints='',\n             learning_rate=0.1, max_delta_step=0, max_depth=5,\n             min_child_weight=1, missing=nan, monotone_constraints='()',\n             n_estimators=10, n_jobs=0, num_parallel_tree=1, random_state=0,\n             reg_alpha=10, reg_lambda=1, scale_pos_weight=1, subsample=1,\n             tree_method='exact', validate_parameters=1, verbosity=None)"
     },
     "metadata": {},
     "execution_count": 3
    }
   ],
   "source": [
    "from sklearn.model_selection import train_test_split\n",
    "\n",
    "#split into training and testing data\n",
    "X_train, X_test, y_train, y_test = train_test_split(X, y, test_size=0.2, random_state=123)\n",
    "\n",
    "xg_reg = xgb.XGBRegressor(objective ='reg:squarederror', colsample_bytree = 0.3, learning_rate = 0.1,\n",
    "                max_depth = 5, alpha = 10, n_estimators = 10)\n",
    "\n",
    "xg_reg.fit(X_train,y_train)\n",
    "\n",
    "\n"
   ]
  },
  {
   "cell_type": "code",
   "execution_count": 4,
   "metadata": {
    "tags": []
   },
   "outputs": [
    {
     "output_type": "stream",
     "name": "stdout",
     "text": "RMSE: 0.409522\n0.8322916666666667\n0.8435374149659864\n"
    }
   ],
   "source": [
    "#predictions /validation \n",
    "from sklearn.metrics import mean_squared_error, accuracy_score, f1_score\n",
    "preds = xg_reg.predict(X_test)\n",
    "predictions = [round(value) for value in preds]\n",
    "rmse = np.sqrt(mean_squared_error(y_test, predictions))\n",
    "print(\"RMSE: %f\" % (rmse))\n",
    "\n",
    "score = accuracy_score(y_test,predictions)\n",
    "print(score)\n",
    "\n",
    "f1 = f1_score(y_test, predictions)\n",
    "print(f1)\n"
   ]
  },
  {
   "cell_type": "code",
   "execution_count": null,
   "metadata": {},
   "outputs": [],
   "source": []
  }
 ],
 "metadata": {
  "language_info": {
   "codemirror_mode": {
    "name": "ipython",
    "version": 3
   },
   "file_extension": ".py",
   "mimetype": "text/x-python",
   "name": "python",
   "nbconvert_exporter": "python",
   "pygments_lexer": "ipython3",
   "version": "3.8.3-final"
  },
  "orig_nbformat": 2,
  "kernelspec": {
   "name": "python38364bit38a1760a1ca84a4290dc782179aae77a",
   "display_name": "Python 3.8.3 64-bit"
  }
 },
 "nbformat": 4,
 "nbformat_minor": 2
}